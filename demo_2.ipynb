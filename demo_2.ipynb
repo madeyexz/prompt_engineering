{
 "cells": [
  {
   "cell_type": "code",
   "execution_count": 40,
   "metadata": {},
   "outputs": [
    {
     "name": "stdout",
     "output_type": "stream",
     "text": [
      "Yes, let's get started. To solve the business case, we'll need to come up with some strategies for the company to expand its business. What do you think are some possible strategies that the company could consider?\n",
      "Yes, that is correct. What strategies could the company consider to expand its business in urban areas?\n",
      "That's a great idea. What strategies could the company use to expand into suburban areas?\n",
      "The company could consider advertising in suburban areas, setting up new stores in suburban areas, or offering discounts and promotions to attract more customers in suburban areas.\n"
     ]
    }
   ],
   "source": [
    "from langchain.llms import OpenAI\n",
    "from langchain.chains import ConversationChain\n",
    "from langchain.memory import ConversationBufferMemory\n",
    "\n",
    "llm = OpenAI(temperature=0.5)\n",
    "# Here it is by default set to \"AI\"\n",
    "\n",
    "from langchain.prompts.prompt import PromptTemplate\n",
    "\n",
    "template=''' \n",
    "You are an interviewer. You are interviewing a candidate for a job. You and the candidate will be given a business case.\n",
    "The goal of the interview is to solve the business case together with the candidate, but you will only be giving necessary hints to the candidate (according to the given case information), and you would not make anything up.\n",
    "If you understand your role, please say \"AG\".\n",
    "The given case is: \"A company is looking to expand its business. What should it do?\"\n",
    "Current converstaion:\n",
    "{history}\n",
    "Interviewee: {input}\n",
    "AG Interviewer:\n",
    "'''\n",
    "case_1 = \"A company is looking to expand its business. What should it do?\"\n",
    "ag_memory = ConversationBufferMemory(ai_prefix=\"AG Interviewer\", human_prefix=\"Interviewee\")\n",
    "\n",
    "\n",
    "PROMPT = PromptTemplate(\n",
    "    input_variables=[\"history\", \"input\"], template=template\n",
    ")\n",
    "conversation = ConversationChain(\n",
    "    prompt=PROMPT,\n",
    "    llm=llm, \n",
    "    verbose=False, \n",
    "    memory=ag_memory,\n",
    ")\n",
    "\n",
    "user_input = \"Hello! Let's get started\"\n",
    "while user_input != \"quit\":\n",
    "    # what's the difference between conversation.run() and converstaion.predict()?\n",
    "    print(conversation.run(input=user_input))\n",
    "    user_input = input(\"Enter your message: \")\n",
    "    ag_memory.load_memory_variables({'history'})\n",
    "\n",
    "\n",
    "memory_data = ag_memory.load_memory_variables({})\n",
    "conver_data = memory_data['history'].split('\\n')\n",
    "\n",
    "with open('data.txt', 'w', encoding='utf-8') as f:\n",
    "    for i in conver_data:\n",
    "        f.writelines(i+'\\n')\n",
    "\n"
   ]
  },
  {
   "cell_type": "code",
   "execution_count": null,
   "metadata": {},
   "outputs": [],
   "source": []
  }
 ],
 "metadata": {
  "kernelspec": {
   "display_name": "Python 3",
   "language": "python",
   "name": "python3"
  },
  "language_info": {
   "codemirror_mode": {
    "name": "ipython",
    "version": 3
   },
   "file_extension": ".py",
   "mimetype": "text/x-python",
   "name": "python",
   "nbconvert_exporter": "python",
   "pygments_lexer": "ipython3",
   "version": "3.8.1"
  },
  "orig_nbformat": 4
 },
 "nbformat": 4,
 "nbformat_minor": 2
}
